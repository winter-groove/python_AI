{
 "cells": [
  {
   "cell_type": "code",
   "execution_count": 1,
   "id": "a97fca05",
   "metadata": {},
   "outputs": [],
   "source": [
    "import random"
   ]
  },
  {
   "cell_type": "code",
   "execution_count": 7,
   "id": "43d39c0b",
   "metadata": {},
   "outputs": [
    {
     "name": "stdout",
     "output_type": "stream",
     "text": [
      " 3 {3}\n",
      "19 {19, 3}\n",
      " 7 {19, 3, 7}\n",
      "37 {19, 3, 37, 7}\n",
      "20 {3, 37, 7, 19, 20}\n",
      "19 {3, 37, 7, 19, 20}\n",
      "33 {33, 3, 37, 7, 19, 20}\n",
      "1등 번호: {33, 3, 37, 7, 19, 20}\n",
      "19\n",
      "5\n",
      "보너스 번호: 5\n"
     ]
    }
   ],
   "source": [
    "# 로또 번호를 기억할 빈 set을 선언한다.\n",
    "lotto = set()\n",
    "\n",
    "# 1등 번호\n",
    "# 무한루프를 돌려주는 이유는 랜덤으로 발생시킨 숫자가 몇 번 중복될 지 모르기 때문이다.\n",
    "while True:\n",
    "    number = random.randrange(1, 46)\n",
    "    lotto.add(number)\n",
    "    print('{0:2d} {1}'.format(number, lotto))\n",
    "    # set에 중복되지 앟는 숫자가 6개 저장되면 무한루프를 탈출시킨다.\n",
    "    if len(lotto) == 6:\n",
    "        break\n",
    "# ===== while True:\n",
    "print('1등 번호: {}'.format(lotto))\n",
    "\n",
    "# 보너스 번호\n",
    "while True:\n",
    "    bonus = random.randrange(1, 46)\n",
    "    print(bonus)\n",
    "    # 보너스 번호가 로또 번호에 없을 경우 무한루프를 탈출시킨다.\n",
    "    if bonus not in lotto:\n",
    "        break\n",
    "# ===== while True:\n",
    "print('보너스 번호: {}'.format(bonus))"
   ]
  },
  {
   "cell_type": "code",
   "execution_count": null,
   "id": "8bc9fbaa",
   "metadata": {},
   "outputs": [],
   "source": []
  },
  {
   "cell_type": "code",
   "execution_count": null,
   "id": "d9162f29",
   "metadata": {},
   "outputs": [],
   "source": []
  },
  {
   "cell_type": "code",
   "execution_count": null,
   "id": "a5cf28b4",
   "metadata": {},
   "outputs": [],
   "source": []
  }
 ],
 "metadata": {
  "kernelspec": {
   "display_name": "Python 3",
   "language": "python",
   "name": "python3"
  },
  "language_info": {
   "codemirror_mode": {
    "name": "ipython",
    "version": 3
   },
   "file_extension": ".py",
   "mimetype": "text/x-python",
   "name": "python",
   "nbconvert_exporter": "python",
   "pygments_lexer": "ipython3",
   "version": "3.9.5"
  }
 },
 "nbformat": 4,
 "nbformat_minor": 5
}
